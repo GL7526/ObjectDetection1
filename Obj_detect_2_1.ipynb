{
  "nbformat": 4,
  "nbformat_minor": 0,
  "metadata": {
    "colab": {
      "name": "Obj detect 2.1",
      "provenance": [],
      "collapsed_sections": [
        "fFsskDj32JBb"
      ],
      "mount_file_id": "1l7eC8eYjM1Yo5Wmcn1vorky8pwh4ljTy",
      "authorship_tag": "ABX9TyM8LTJPhYtTUhOiyNhVfhs7"
    },
    "kernelspec": {
      "name": "python3",
      "display_name": "Python 3"
    }
  },
  "cells": [
    {
      "cell_type": "markdown",
      "metadata": {
        "id": "k4M2HY9o2FzT",
        "colab_type": "text"
      },
      "source": [
        "# Test model"
      ]
    },
    {
      "cell_type": "markdown",
      "metadata": {
        "id": "fFsskDj32JBb",
        "colab_type": "text"
      },
      "source": [
        "## imports and installs"
      ]
    },
    {
      "cell_type": "code",
      "metadata": {
        "id": "Xw4I-0dl0YOn",
        "colab_type": "code",
        "colab": {
          "base_uri": "https://localhost:8080/",
          "height": 642
        },
        "outputId": "41d3ee66-1b12-4530-bb33-be1dd9b1c624"
      },
      "source": [
        "!pip3 install tensorflow-gpu==1.13.1"
      ],
      "execution_count": 1,
      "outputs": [
        {
          "output_type": "stream",
          "text": [
            "Collecting tensorflow-gpu==1.13.1\n",
            "\u001b[?25l  Downloading https://files.pythonhosted.org/packages/7b/b1/0ad4ae02e17ddd62109cd54c291e311c4b5fd09b4d0678d3d6ce4159b0f0/tensorflow_gpu-1.13.1-cp36-cp36m-manylinux1_x86_64.whl (345.2MB)\n",
            "\u001b[K     |████████████████████████████████| 345.2MB 45kB/s \n",
            "\u001b[?25hRequirement already satisfied: gast>=0.2.0 in /usr/local/lib/python3.6/dist-packages (from tensorflow-gpu==1.13.1) (0.3.3)\n",
            "Collecting tensorflow-estimator<1.14.0rc0,>=1.13.0\n",
            "\u001b[?25l  Downloading https://files.pythonhosted.org/packages/bb/48/13f49fc3fa0fdf916aa1419013bb8f2ad09674c275b4046d5ee669a46873/tensorflow_estimator-1.13.0-py2.py3-none-any.whl (367kB)\n",
            "\u001b[K     |████████████████████████████████| 368kB 47.5MB/s \n",
            "\u001b[?25hRequirement already satisfied: grpcio>=1.8.6 in /usr/local/lib/python3.6/dist-packages (from tensorflow-gpu==1.13.1) (1.27.2)\n",
            "Requirement already satisfied: protobuf>=3.6.1 in /usr/local/lib/python3.6/dist-packages (from tensorflow-gpu==1.13.1) (3.10.0)\n",
            "Requirement already satisfied: keras-preprocessing>=1.0.5 in /usr/local/lib/python3.6/dist-packages (from tensorflow-gpu==1.13.1) (1.1.0)\n",
            "Requirement already satisfied: termcolor>=1.1.0 in /usr/local/lib/python3.6/dist-packages (from tensorflow-gpu==1.13.1) (1.1.0)\n",
            "Requirement already satisfied: keras-applications>=1.0.6 in /usr/local/lib/python3.6/dist-packages (from tensorflow-gpu==1.13.1) (1.0.8)\n",
            "Requirement already satisfied: absl-py>=0.1.6 in /usr/local/lib/python3.6/dist-packages (from tensorflow-gpu==1.13.1) (0.9.0)\n",
            "Requirement already satisfied: astor>=0.6.0 in /usr/local/lib/python3.6/dist-packages (from tensorflow-gpu==1.13.1) (0.8.1)\n",
            "Collecting tensorboard<1.14.0,>=1.13.0\n",
            "\u001b[?25l  Downloading https://files.pythonhosted.org/packages/0f/39/bdd75b08a6fba41f098b6cb091b9e8c7a80e1b4d679a581a0ccd17b10373/tensorboard-1.13.1-py3-none-any.whl (3.2MB)\n",
            "\u001b[K     |████████████████████████████████| 3.2MB 34.6MB/s \n",
            "\u001b[?25hRequirement already satisfied: wheel>=0.26 in /usr/local/lib/python3.6/dist-packages (from tensorflow-gpu==1.13.1) (0.34.2)\n",
            "Requirement already satisfied: six>=1.10.0 in /usr/local/lib/python3.6/dist-packages (from tensorflow-gpu==1.13.1) (1.12.0)\n",
            "Requirement already satisfied: numpy>=1.13.3 in /usr/local/lib/python3.6/dist-packages (from tensorflow-gpu==1.13.1) (1.18.2)\n",
            "Collecting mock>=2.0.0\n",
            "  Downloading https://files.pythonhosted.org/packages/cd/74/d72daf8dff5b6566db857cfd088907bb0355f5dd2914c4b3ef065c790735/mock-4.0.2-py3-none-any.whl\n",
            "Requirement already satisfied: setuptools in /usr/local/lib/python3.6/dist-packages (from protobuf>=3.6.1->tensorflow-gpu==1.13.1) (46.1.3)\n",
            "Requirement already satisfied: h5py in /usr/local/lib/python3.6/dist-packages (from keras-applications>=1.0.6->tensorflow-gpu==1.13.1) (2.10.0)\n",
            "Requirement already satisfied: werkzeug>=0.11.15 in /usr/local/lib/python3.6/dist-packages (from tensorboard<1.14.0,>=1.13.0->tensorflow-gpu==1.13.1) (1.0.1)\n",
            "Requirement already satisfied: markdown>=2.6.8 in /usr/local/lib/python3.6/dist-packages (from tensorboard<1.14.0,>=1.13.0->tensorflow-gpu==1.13.1) (3.2.1)\n",
            "\u001b[31mERROR: tensorflow 2.2.0rc2 has requirement tensorboard<2.3.0,>=2.2.0, but you'll have tensorboard 1.13.1 which is incompatible.\u001b[0m\n",
            "\u001b[31mERROR: tensorflow 2.2.0rc2 has requirement tensorflow-estimator<2.3.0,>=2.2.0rc0, but you'll have tensorflow-estimator 1.13.0 which is incompatible.\u001b[0m\n",
            "Installing collected packages: mock, tensorflow-estimator, tensorboard, tensorflow-gpu\n",
            "  Found existing installation: tensorflow-estimator 2.2.0rc0\n",
            "    Uninstalling tensorflow-estimator-2.2.0rc0:\n",
            "      Successfully uninstalled tensorflow-estimator-2.2.0rc0\n",
            "  Found existing installation: tensorboard 2.2.0\n",
            "    Uninstalling tensorboard-2.2.0:\n",
            "      Successfully uninstalled tensorboard-2.2.0\n",
            "Successfully installed mock-4.0.2 tensorboard-1.13.1 tensorflow-estimator-1.13.0 tensorflow-gpu-1.13.1\n"
          ],
          "name": "stdout"
        }
      ]
    },
    {
      "cell_type": "code",
      "metadata": {
        "id": "a-zvKj870eI1",
        "colab_type": "code",
        "colab": {
          "base_uri": "https://localhost:8080/",
          "height": 289
        },
        "outputId": "35d2d58e-84e4-4a61-b040-c7ebcfdb4221"
      },
      "source": [
        "pip install imageai"
      ],
      "execution_count": 2,
      "outputs": [
        {
          "output_type": "stream",
          "text": [
            "Collecting imageai\n",
            "\u001b[?25l  Downloading https://files.pythonhosted.org/packages/09/99/4023e191a343fb23f01ae02ac57a5ca58037c310e8d8c62f87638a3bafc7/imageai-2.1.5-py3-none-any.whl (180kB)\n",
            "\r\u001b[K     |█▉                              | 10kB 16.4MB/s eta 0:00:01\r\u001b[K     |███▋                            | 20kB 2.1MB/s eta 0:00:01\r\u001b[K     |█████▍                          | 30kB 3.1MB/s eta 0:00:01\r\u001b[K     |███████▎                        | 40kB 2.0MB/s eta 0:00:01\r\u001b[K     |█████████                       | 51kB 2.5MB/s eta 0:00:01\r\u001b[K     |██████████▉                     | 61kB 3.0MB/s eta 0:00:01\r\u001b[K     |████████████▊                   | 71kB 3.4MB/s eta 0:00:01\r\u001b[K     |██████████████▌                 | 81kB 2.7MB/s eta 0:00:01\r\u001b[K     |████████████████▎               | 92kB 3.0MB/s eta 0:00:01\r\u001b[K     |██████████████████▏             | 102kB 3.3MB/s eta 0:00:01\r\u001b[K     |████████████████████            | 112kB 3.3MB/s eta 0:00:01\r\u001b[K     |█████████████████████▊          | 122kB 3.3MB/s eta 0:00:01\r\u001b[K     |███████████████████████▋        | 133kB 3.3MB/s eta 0:00:01\r\u001b[K     |█████████████████████████▍      | 143kB 3.3MB/s eta 0:00:01\r\u001b[K     |███████████████████████████▏    | 153kB 3.3MB/s eta 0:00:01\r\u001b[K     |█████████████████████████████   | 163kB 3.3MB/s eta 0:00:01\r\u001b[K     |██████████████████████████████▉ | 174kB 3.3MB/s eta 0:00:01\r\u001b[K     |████████████████████████████████| 184kB 3.3MB/s \n",
            "\u001b[?25hRequirement already satisfied: matplotlib in /usr/local/lib/python3.6/dist-packages (from imageai) (3.2.1)\n",
            "Requirement already satisfied: scipy in /usr/local/lib/python3.6/dist-packages (from imageai) (1.4.1)\n",
            "Requirement already satisfied: pillow in /usr/local/lib/python3.6/dist-packages (from imageai) (7.0.0)\n",
            "Requirement already satisfied: numpy in /usr/local/lib/python3.6/dist-packages (from imageai) (1.18.2)\n",
            "Requirement already satisfied: h5py in /usr/local/lib/python3.6/dist-packages (from imageai) (2.10.0)\n",
            "Requirement already satisfied: pyparsing!=2.0.4,!=2.1.2,!=2.1.6,>=2.0.1 in /usr/local/lib/python3.6/dist-packages (from matplotlib->imageai) (2.4.6)\n",
            "Requirement already satisfied: kiwisolver>=1.0.1 in /usr/local/lib/python3.6/dist-packages (from matplotlib->imageai) (1.2.0)\n",
            "Requirement already satisfied: python-dateutil>=2.1 in /usr/local/lib/python3.6/dist-packages (from matplotlib->imageai) (2.8.1)\n",
            "Requirement already satisfied: cycler>=0.10 in /usr/local/lib/python3.6/dist-packages (from matplotlib->imageai) (0.10.0)\n",
            "Requirement already satisfied: six in /usr/local/lib/python3.6/dist-packages (from h5py->imageai) (1.12.0)\n",
            "Installing collected packages: imageai\n",
            "Successfully installed imageai-2.1.5\n"
          ],
          "name": "stdout"
        }
      ]
    },
    {
      "cell_type": "code",
      "metadata": {
        "id": "3k2JIZ4Y0h2G",
        "colab_type": "code",
        "colab": {}
      },
      "source": [
        "import imageai"
      ],
      "execution_count": 0,
      "outputs": []
    },
    {
      "cell_type": "code",
      "metadata": {
        "id": "B16KdGbM0jAy",
        "colab_type": "code",
        "colab": {
          "base_uri": "https://localhost:8080/",
          "height": 301
        },
        "outputId": "1f859c55-8558-40e8-9175-4d94dd017380"
      },
      "source": [
        "from imageai.Detection.Custom import DetectionModelTrainer # will tell you to upgrade to tf2.x, ignore as this won't work in 2.x"
      ],
      "execution_count": 4,
      "outputs": [
        {
          "output_type": "stream",
          "text": [
            "Using TensorFlow backend.\n",
            "/usr/local/lib/python3.6/dist-packages/tensorflow/python/framework/dtypes.py:526: FutureWarning: Passing (type, 1) or '1type' as a synonym of type is deprecated; in a future version of numpy, it will be understood as (type, (1,)) / '(1,)type'.\n",
            "  _np_qint8 = np.dtype([(\"qint8\", np.int8, 1)])\n",
            "/usr/local/lib/python3.6/dist-packages/tensorflow/python/framework/dtypes.py:527: FutureWarning: Passing (type, 1) or '1type' as a synonym of type is deprecated; in a future version of numpy, it will be understood as (type, (1,)) / '(1,)type'.\n",
            "  _np_quint8 = np.dtype([(\"quint8\", np.uint8, 1)])\n",
            "/usr/local/lib/python3.6/dist-packages/tensorflow/python/framework/dtypes.py:528: FutureWarning: Passing (type, 1) or '1type' as a synonym of type is deprecated; in a future version of numpy, it will be understood as (type, (1,)) / '(1,)type'.\n",
            "  _np_qint16 = np.dtype([(\"qint16\", np.int16, 1)])\n",
            "/usr/local/lib/python3.6/dist-packages/tensorflow/python/framework/dtypes.py:529: FutureWarning: Passing (type, 1) or '1type' as a synonym of type is deprecated; in a future version of numpy, it will be understood as (type, (1,)) / '(1,)type'.\n",
            "  _np_quint16 = np.dtype([(\"quint16\", np.uint16, 1)])\n",
            "/usr/local/lib/python3.6/dist-packages/tensorflow/python/framework/dtypes.py:530: FutureWarning: Passing (type, 1) or '1type' as a synonym of type is deprecated; in a future version of numpy, it will be understood as (type, (1,)) / '(1,)type'.\n",
            "  _np_qint32 = np.dtype([(\"qint32\", np.int32, 1)])\n",
            "/usr/local/lib/python3.6/dist-packages/tensorflow/python/framework/dtypes.py:535: FutureWarning: Passing (type, 1) or '1type' as a synonym of type is deprecated; in a future version of numpy, it will be understood as (type, (1,)) / '(1,)type'.\n",
            "  np_resource = np.dtype([(\"resource\", np.ubyte, 1)])\n"
          ],
          "name": "stderr"
        },
        {
          "output_type": "display_data",
          "data": {
            "text/html": [
              "<p style=\"color: red;\">\n",
              "The default version of TensorFlow in Colab will switch to TensorFlow 2.x on the 27th of March, 2020.<br>\n",
              "We recommend you <a href=\"https://www.tensorflow.org/guide/migrate\" target=\"_blank\">upgrade</a> now\n",
              "or ensure your notebook will continue to use TensorFlow 1.x via the <code>%tensorflow_version 1.x</code> magic:\n",
              "<a href=\"https://colab.research.google.com/notebooks/tensorflow_version.ipynb\" target=\"_blank\">more info</a>.</p>\n"
            ],
            "text/plain": [
              "<IPython.core.display.HTML object>"
            ]
          },
          "metadata": {
            "tags": []
          }
        }
      ]
    },
    {
      "cell_type": "markdown",
      "metadata": {
        "id": "mA3um8082OmQ",
        "colab_type": "text"
      },
      "source": [
        "## Evaluate on test"
      ]
    },
    {
      "cell_type": "code",
      "metadata": {
        "id": "hUvHAfNF0kZl",
        "colab_type": "code",
        "colab": {
          "base_uri": "https://localhost:8080/",
          "height": 339
        },
        "outputId": "3983702d-9729-48da-d643-488635f02a84"
      },
      "source": [
        "trainer = DetectionModelTrainer()\n",
        "trainer.setModelTypeAsYOLOv3()\n",
        "trainer.setDataDirectory(data_directory=\"/content/drive/My Drive/Object Detection Final Project/obj_detect_2/toiletpaper\")\n",
        "metrics = trainer.evaluateModel(model_path=\"/content/drive/My Drive/Object Detection Final Project/obj_detect_2/toiletpaper/models\", \n",
        "                                json_path=\"/content/drive/My Drive/Object Detection Final Project/obj_detect_2/toiletpaper/json/detection_config.json\", \n",
        "                                iou_threshold=0.5, \n",
        "                                object_threshold=0.3, \n",
        "                                nms_threshold=0.5)\n",
        "print(metrics)"
      ],
      "execution_count": 5,
      "outputs": [
        {
          "output_type": "stream",
          "text": [
            "Starting Model evaluation....\n",
            "WARNING:tensorflow:From /usr/local/lib/python3.6/dist-packages/tensorflow/python/framework/op_def_library.py:263: colocate_with (from tensorflow.python.framework.ops) is deprecated and will be removed in a future version.\n",
            "Instructions for updating:\n",
            "Colocations handled automatically by placer.\n",
            "WARNING:tensorflow:From /usr/local/lib/python3.6/dist-packages/imageai/Detection/Custom/yolo.py:24: to_float (from tensorflow.python.ops.math_ops) is deprecated and will be removed in a future version.\n",
            "Instructions for updating:\n",
            "Use tf.cast instead.\n"
          ],
          "name": "stdout"
        },
        {
          "output_type": "stream",
          "text": [
            "/usr/local/lib/python3.6/dist-packages/keras/engine/saving.py:310: UserWarning: No training configuration found in save file: the model was *not* compiled. Compile it manually.\n",
            "  warnings.warn('No training configuration found in save file: '\n"
          ],
          "name": "stderr"
        },
        {
          "output_type": "stream",
          "text": [
            "Model File:  /content/drive/My Drive/Object Detection Final Project/obj_detect_2/toiletpaper/models/detection_model-ex-001--loss-0068.417.h5 \n",
            "\n",
            "Using IoU :  0.5\n",
            "Using Object Threshold :  0.3\n",
            "Using Non-Maximum Suppression :  0.5\n",
            "toiletpaper: 0.0058\n",
            "mAP: 0.0058\n",
            "===============================\n",
            "[{'model_file': '/content/drive/My Drive/Object Detection Final Project/obj_detect_2/toiletpaper/models/detection_model-ex-001--loss-0068.417.h5', 'using_iou': 0.5, 'using_object_threshold': 0.3, 'using_non_maximum_suppression': 0.5, 'average_precision': {'toiletpaper': 0.005822935234699941}, 'map': 0.005822935234699941}]\n"
          ],
          "name": "stdout"
        }
      ]
    },
    {
      "cell_type": "markdown",
      "metadata": {
        "id": "CBFz9D-m4e2x",
        "colab_type": "text"
      },
      "source": [
        "## Test"
      ]
    },
    {
      "cell_type": "code",
      "metadata": {
        "id": "rbTrTxdo05Fh",
        "colab_type": "code",
        "colab": {}
      },
      "source": [
        "from imageai.Detection.Custom import CustomObjectDetection\n"
      ],
      "execution_count": 0,
      "outputs": []
    },
    {
      "cell_type": "code",
      "metadata": {
        "id": "bH3Ze6-r_IpR",
        "colab_type": "code",
        "colab": {}
      },
      "source": [
        "detector = CustomObjectDetection()\n",
        "detector.setModelTypeAsYOLOv3()\n",
        "detector.setModelPath(\"/content/drive/My Drive/Object Detection Final Project/obj_detect_2/toiletpaper/models/detection_model-ex-001--loss-0068.417.h5\")\n",
        "detector.setJsonPath(\"/content/drive/My Drive/Object Detection Final Project/obj_detect_2/toiletpaper/json/detection_config.json\")\n",
        "detector.loadModel()\n",
        "detections = detector.detectObjectsFromImage(input_image=\"/content/drive/My Drive/Object Detection Final Project/obj_detect_2/toiletpaper/validation/images/tp95.jpg\", \n",
        "                                             output_image_path=\"/content/drive/My Drive/Object Detection Final Project/obj_detect_2/toiletpaper/validation/images/tp95tested.jpg\",\n",
        "                                             minimum_percentage_probability=28)\n",
        "for detection in detections:\n",
        "    print(detection[\"name\"], \" : \", detection[\"percentage_probability\"], \" : \", detection[\"box_points\"])"
      ],
      "execution_count": 0,
      "outputs": []
    },
    {
      "cell_type": "code",
      "metadata": {
        "colab_type": "code",
        "id": "k7CickwrQ2Fn",
        "colab": {
          "base_uri": "https://localhost:8080/",
          "height": 67
        },
        "outputId": "54611807-9193-4870-c1b6-409418bc52c0"
      },
      "source": [
        "detections = detector.detectObjectsFromImage(input_image=\"/content/drive/My Drive/Object Detection Final Project/obj_detect_2/toiletpaper/validation/images/tp96.jpg\", \n",
        "                                             output_image_path=\"/content/drive/My Drive/Object Detection Final Project/obj_detect_2/toiletpaper/validation/images/tp96tested.jpg\",\n",
        "                                             minimum_percentage_probability=24)\n",
        "for detection in detections:\n",
        "    print(detection[\"name\"], \" : \", detection[\"percentage_probability\"], \" : \", detection[\"box_points\"])"
      ],
      "execution_count": 31,
      "outputs": [
        {
          "output_type": "stream",
          "text": [
            "toiletpaper  :  24.345378577709198  :  [78, 0, 257, 203]\n",
            "toiletpaper  :  24.32296574115753  :  [118, 103, 137, 114]\n",
            "toiletpaper  :  26.07378363609314  :  [137, 122, 152, 135]\n"
          ],
          "name": "stdout"
        }
      ]
    },
    {
      "cell_type": "code",
      "metadata": {
        "id": "l8bP-R3WQ9OR",
        "colab_type": "code",
        "colab": {
          "base_uri": "https://localhost:8080/",
          "height": 34
        },
        "outputId": "b1421562-fb40-4157-bbc6-a10dee253175"
      },
      "source": [
        "detections = detector.detectObjectsFromImage(input_image=\"/content/drive/My Drive/Object Detection Final Project/obj_detect_2/toiletpaper/validation/images/tp99.jpg\", \n",
        "                                             output_image_path=\"/content/drive/My Drive/Object Detection Final Project/obj_detect_2/toiletpaper/validation/images/tp99tested.jpg\",\n",
        "                                             minimum_percentage_probability=28)\n",
        "for detection in detections:\n",
        "    print(detection[\"name\"], \" : \", detection[\"percentage_probability\"], \" : \", detection[\"box_points\"])"
      ],
      "execution_count": 28,
      "outputs": [
        {
          "output_type": "stream",
          "text": [
            "toiletpaper  :  31.377407908439636  :  [0, 20, 200, 188]\n"
          ],
          "name": "stdout"
        }
      ]
    },
    {
      "cell_type": "code",
      "metadata": {
        "id": "s_KKYknHQ_7Y",
        "colab_type": "code",
        "colab": {
          "base_uri": "https://localhost:8080/",
          "height": 134
        },
        "outputId": "5a60ed76-4c2e-442f-d598-7ebd5c60d3ca"
      },
      "source": [
        "detections = detector.detectObjectsFromImage(input_image=\"/content/drive/My Drive/Object Detection Final Project/obj_detect_2/toiletpaper/validation/images/tp97.jpg\", \n",
        "                                             output_image_path=\"/content/drive/My Drive/Object Detection Final Project/obj_detect_2/toiletpaper/validation/images/tp97lotsbox.jpg\",\n",
        "                                             minimum_percentage_probability=15)\n",
        "for detection in detections:\n",
        "    print(detection[\"name\"], \" : \", detection[\"percentage_probability\"], \" : \", detection[\"box_points\"])"
      ],
      "execution_count": 37,
      "outputs": [
        {
          "output_type": "stream",
          "text": [
            "toiletpaper  :  41.1933034658432  :  [42, 49, 177, 143]\n",
            "toiletpaper  :  25.84138810634613  :  [88, 0, 164, 447]\n",
            "toiletpaper  :  15.60448408126831  :  [124, 3, 158, 180]\n",
            "toiletpaper  :  16.92686229944229  :  [70, 0, 151, 327]\n",
            "toiletpaper  :  21.237820386886597  :  [0, 110, 224, 240]\n",
            "toiletpaper  :  31.272321939468384  :  [47, 49, 148, 97]\n",
            "toiletpaper  :  21.193191409111023  :  [57, 71, 119, 162]\n"
          ],
          "name": "stdout"
        }
      ]
    },
    {
      "cell_type": "markdown",
      "metadata": {
        "id": "6nEZOgqviMZI",
        "colab_type": "text"
      },
      "source": [
        "# EDA"
      ]
    },
    {
      "cell_type": "markdown",
      "metadata": {
        "id": "IaxIwnXk8SOB",
        "colab_type": "text"
      },
      "source": [
        "## RGB/BGR distribution"
      ]
    },
    {
      "cell_type": "code",
      "metadata": {
        "id": "8QgTgtOy8K5_",
        "colab_type": "code",
        "colab": {}
      },
      "source": [
        "import cv2\n",
        "import os\n",
        "import glob\n",
        "img_dir = \"/content/drive/My Drive/Object Detection Final Project/obj_detect_2/toiletpaper/train/images\" # train image directory \n",
        "data_path = os.path.join(img_dir,'*g')\n",
        "files = glob.glob(data_path)\n",
        "data = []\n",
        "for f1 in files:\n",
        "    img = cv2.imread(f1)\n",
        "    data.append(img)"
      ],
      "execution_count": 0,
      "outputs": []
    },
    {
      "cell_type": "code",
      "metadata": {
        "id": "5E5uzdYeKJYg",
        "colab_type": "code",
        "colab": {}
      },
      "source": [
        "### NEED TO RUN SEPARATELY OR ELSE I'D RUN OUT OF SPACE:"
      ],
      "execution_count": 0,
      "outputs": []
    },
    {
      "cell_type": "code",
      "metadata": {
        "id": "Jyyb_YMW_yyW",
        "colab_type": "code",
        "colab": {}
      },
      "source": [
        "B_list = []\n",
        "G_list = []\n",
        "R_list = []\n",
        "for i in data:\n",
        "  width, height, channels = i.shape # data[0] is one image: width, height, channels\n",
        "  for j in range(width):\n",
        "    for k in range(height):\n",
        "      B_list.append(i[j][k][0])\n",
        "      # G_list.append(i[j][k][1])\n",
        "      # R_list.append(i[j][k][2])"
      ],
      "execution_count": 0,
      "outputs": []
    },
    {
      "cell_type": "code",
      "metadata": {
        "id": "Mn8IIgGSKS_5",
        "colab_type": "code",
        "colab": {
          "base_uri": "https://localhost:8080/",
          "height": 34
        },
        "outputId": "b2cecc04-87f3-4005-8f1f-64665ec5b47a"
      },
      "source": [
        "sum(B_list)/len(B_list)"
      ],
      "execution_count": 6,
      "outputs": [
        {
          "output_type": "execute_result",
          "data": {
            "text/plain": [
              "85.14902527293562"
            ]
          },
          "metadata": {
            "tags": []
          },
          "execution_count": 6
        }
      ]
    },
    {
      "cell_type": "code",
      "metadata": {
        "id": "WCgmDC3RLUmj",
        "colab_type": "code",
        "colab": {}
      },
      "source": [
        "import numpy as np\n",
        "B_list = np.array(B_list) # save space because RAM usage is shooting up"
      ],
      "execution_count": 0,
      "outputs": []
    },
    {
      "cell_type": "code",
      "metadata": {
        "id": "6nnDibGICaIh",
        "colab_type": "code",
        "colab": {}
      },
      "source": [
        "for i in data:\n",
        "  width, height, channels = i.shape # data[0] is one image: width, height, channels\n",
        "  for j in range(width):\n",
        "    for k in range(height):\n",
        "      # B_list.append(i[j][k][0])\n",
        "      G_list.append(i[j][k][1])\n",
        "      # R_list.append(i[j][k][2])"
      ],
      "execution_count": 0,
      "outputs": []
    },
    {
      "cell_type": "code",
      "metadata": {
        "id": "6jL62npaL5s8",
        "colab_type": "code",
        "colab": {}
      },
      "source": [
        "G_list = np.array(G_list)"
      ],
      "execution_count": 0,
      "outputs": []
    },
    {
      "cell_type": "code",
      "metadata": {
        "id": "Ldwa0dMNKEPC",
        "colab_type": "code",
        "colab": {}
      },
      "source": [
        "for i in data:\n",
        "  width, height, channels = i.shape # data[0] is one image: width, height, channels\n",
        "  for j in range(width):\n",
        "    for k in range(height):\n",
        "      # B_list.append(i[j][k][0])\n",
        "      # G_list.append(i[j][k][1])\n",
        "      R_list.append(i[j][k][2])"
      ],
      "execution_count": 0,
      "outputs": []
    },
    {
      "cell_type": "code",
      "metadata": {
        "id": "kNaYeeuiKEdB",
        "colab_type": "code",
        "colab": {}
      },
      "source": [
        "R_list = np.array(R_list)"
      ],
      "execution_count": 0,
      "outputs": []
    },
    {
      "cell_type": "code",
      "metadata": {
        "id": "IJMasnzsKEnF",
        "colab_type": "code",
        "colab": {
          "base_uri": "https://localhost:8080/",
          "height": 70
        },
        "outputId": "97768052-d999-4cef-9e3b-6fe7c329329c"
      },
      "source": [
        "import seaborn as sns"
      ],
      "execution_count": 2,
      "outputs": [
        {
          "output_type": "stream",
          "text": [
            "/usr/local/lib/python3.6/dist-packages/statsmodels/tools/_testing.py:19: FutureWarning: pandas.util.testing is deprecated. Use the functions in the public API at pandas.testing instead.\n",
            "  import pandas.util.testing as tm\n"
          ],
          "name": "stderr"
        }
      ]
    },
    {
      "cell_type": "code",
      "metadata": {
        "id": "nC7Rf_1SKE1E",
        "colab_type": "code",
        "colab": {
          "base_uri": "https://localhost:8080/",
          "height": 636
        },
        "outputId": "7fa2fbf6-5301-4fd4-ddf6-09ac8d906e88"
      },
      "source": [
        "sns.set(rc = {'figure.figsize':(12,10)})\n",
        "\n",
        "boxplot = sns.boxplot(x=['Red', 'Green', 'Blue'], y=[R_list, G_list, B_list], palette = ['r', 'g', 'b']) #showfliers = False)\n",
        "\n",
        "# boxplot.set_xticklabels(boxplot.get_xticklabels(), rotation = 90) # x-tick label info\n",
        "boxplot.axes.set_title('Color Intensity Distribution', fontsize = 19.5, pad = 10) # title info\n",
        "# boxplot.set_xlabel('Genres', fontsize = 18, labelpad = 10) # xlabel info\n",
        "boxplot.set_ylabel('Intensity Value', fontsize = 17.5, labelpad = 8) # ylabel info\n",
        "\n",
        "\n"
      ],
      "execution_count": 15,
      "outputs": [
        {
          "output_type": "execute_result",
          "data": {
            "text/plain": [
              "Text(0, 0.5, 'Intensity Value')"
            ]
          },
          "metadata": {
            "tags": []
          },
          "execution_count": 15
        },
        {
          "output_type": "display_data",
          "data": {
            "image/png": "[encoded data removed]",
            "text/plain": [
              "<Figure size 864x720 with 1 Axes>"
            ]
          },
          "metadata": {
            "tags": []
          }
        }
      ]
    },
    {
      "cell_type": "markdown",
      "metadata": {
        "id": "230otB9hUFpH",
        "colab_type": "text"
      },
      "source": [
        "## Image size distribution (width, height)"
      ]
    },
    {
      "cell_type": "code",
      "metadata": {
        "id": "51TGvFdJKFAs",
        "colab_type": "code",
        "colab": {}
      },
      "source": [
        "import cv2\n",
        "import os\n",
        "import glob\n",
        "img_dir = \"/content/drive/My Drive/Object Detection Final Project/obj_detect_2/toiletpaper/train/images\" # train image directory \n",
        "data_path = os.path.join(img_dir,'*g')\n",
        "files = glob.glob(data_path)\n",
        "data = []\n",
        "for f1 in files:\n",
        "    img = cv2.imread(f1)\n",
        "    data.append(img)"
      ],
      "execution_count": 0,
      "outputs": []
    },
    {
      "cell_type": "code",
      "metadata": {
        "id": "-rWzw0MpS0zq",
        "colab_type": "code",
        "colab": {}
      },
      "source": [
        "wh_list = []\n",
        "for i in data:\n",
        "  wh_list.append((i.shape[0], i.shape[1])) # data[0] is one image: width, height, channels"
      ],
      "execution_count": 0,
      "outputs": []
    },
    {
      "cell_type": "code",
      "metadata": {
        "id": "9tfgbDTIUgmW",
        "colab_type": "code",
        "colab": {
          "base_uri": "https://localhost:8080/",
          "height": 34
        },
        "outputId": "70f5b700-3c5b-423b-ad1e-8f0040f2630c"
      },
      "source": [
        "wh_list[:4]"
      ],
      "execution_count": 5,
      "outputs": [
        {
          "output_type": "execute_result",
          "data": {
            "text/plain": [
              "[(240, 300), (293, 220), (1500, 1500), (2700, 1800)]"
            ]
          },
          "metadata": {
            "tags": []
          },
          "execution_count": 5
        }
      ]
    },
    {
      "cell_type": "code",
      "metadata": {
        "id": "AtXQJEX_UikL",
        "colab_type": "code",
        "colab": {}
      },
      "source": [
        "import collections\n",
        "size_count = collections.defaultdict(int)"
      ],
      "execution_count": 0,
      "outputs": []
    },
    {
      "cell_type": "code",
      "metadata": {
        "id": "XRs6kptdVzMV",
        "colab_type": "code",
        "colab": {}
      },
      "source": [
        "for i in wh_list:\n",
        "  size_count[i] += 1"
      ],
      "execution_count": 0,
      "outputs": []
    },
    {
      "cell_type": "code",
      "metadata": {
        "id": "AUZTXJDUV64k",
        "colab_type": "code",
        "colab": {
          "base_uri": "https://localhost:8080/",
          "height": 991
        },
        "outputId": "7751fe79-b244-4937-b1c6-08a7f58b0a74"
      },
      "source": [
        "size_count"
      ],
      "execution_count": 26,
      "outputs": [
        {
          "output_type": "execute_result",
          "data": {
            "text/plain": [
              "defaultdict(int,\n",
              "            {(163, 310): 2,\n",
              "             (168, 300): 1,\n",
              "             (174, 290): 1,\n",
              "             (183, 275): 5,\n",
              "             (183, 276): 1,\n",
              "             (185, 272): 1,\n",
              "             (194, 259): 3,\n",
              "             (195, 259): 1,\n",
              "             (201, 251): 1,\n",
              "             (204, 233): 1,\n",
              "             (210, 210): 1,\n",
              "             (212, 238): 1,\n",
              "             (225, 224): 1,\n",
              "             (225, 225): 2,\n",
              "             (229, 220): 1,\n",
              "             (240, 300): 1,\n",
              "             (249, 203): 1,\n",
              "             (251, 201): 1,\n",
              "             (275, 183): 1,\n",
              "             (293, 220): 1,\n",
              "             (299, 168): 1,\n",
              "             (300, 215): 1,\n",
              "             (337, 600): 1,\n",
              "             (348, 348): 1,\n",
              "             (367, 550): 1,\n",
              "             (405, 540): 1,\n",
              "             (422, 500): 1,\n",
              "             (432, 764): 1,\n",
              "             (440, 700): 1,\n",
              "             (450, 338): 1,\n",
              "             (512, 1024): 1,\n",
              "             (523, 523): 1,\n",
              "             (600, 900): 1,\n",
              "             (620, 1024): 1,\n",
              "             (682, 1023): 1,\n",
              "             (720, 1080): 1,\n",
              "             (720, 1280): 1,\n",
              "             (825, 1100): 1,\n",
              "             (953, 1300): 1,\n",
              "             (960, 1280): 1,\n",
              "             (1072, 1600): 1,\n",
              "             (1200, 900): 2,\n",
              "             (1200, 1200): 1,\n",
              "             (1428, 2560): 1,\n",
              "             (1500, 1000): 1,\n",
              "             (1500, 1500): 1,\n",
              "             (1500, 2000): 1,\n",
              "             (1800, 1800): 1,\n",
              "             (2322, 4128): 1,\n",
              "             (2340, 4160): 1,\n",
              "             (2472, 3296): 1,\n",
              "             (2700, 1800): 1,\n",
              "             (3000, 4000): 1,\n",
              "             (3264, 2448): 1,\n",
              "             (4032, 1960): 15,\n",
              "             (4032, 3024): 1,\n",
              "             (4048, 3036): 1})"
            ]
          },
          "metadata": {
            "tags": []
          },
          "execution_count": 26
        }
      ]
    },
    {
      "cell_type": "code",
      "metadata": {
        "id": "1fPRIfKUV7f-",
        "colab_type": "code",
        "colab": {
          "base_uri": "https://localhost:8080/",
          "height": 974
        },
        "outputId": "84155076-e98a-4805-d2c6-117df53ff6f9"
      },
      "source": [
        "size_count = dict(size_count)\n",
        "size_count"
      ],
      "execution_count": 27,
      "outputs": [
        {
          "output_type": "execute_result",
          "data": {
            "text/plain": [
              "{(163, 310): 2,\n",
              " (168, 300): 1,\n",
              " (174, 290): 1,\n",
              " (183, 275): 5,\n",
              " (183, 276): 1,\n",
              " (185, 272): 1,\n",
              " (194, 259): 3,\n",
              " (195, 259): 1,\n",
              " (201, 251): 1,\n",
              " (204, 233): 1,\n",
              " (210, 210): 1,\n",
              " (212, 238): 1,\n",
              " (225, 224): 1,\n",
              " (225, 225): 2,\n",
              " (229, 220): 1,\n",
              " (240, 300): 1,\n",
              " (249, 203): 1,\n",
              " (251, 201): 1,\n",
              " (275, 183): 1,\n",
              " (293, 220): 1,\n",
              " (299, 168): 1,\n",
              " (300, 215): 1,\n",
              " (337, 600): 1,\n",
              " (348, 348): 1,\n",
              " (367, 550): 1,\n",
              " (405, 540): 1,\n",
              " (422, 500): 1,\n",
              " (432, 764): 1,\n",
              " (440, 700): 1,\n",
              " (450, 338): 1,\n",
              " (512, 1024): 1,\n",
              " (523, 523): 1,\n",
              " (600, 900): 1,\n",
              " (620, 1024): 1,\n",
              " (682, 1023): 1,\n",
              " (720, 1080): 1,\n",
              " (720, 1280): 1,\n",
              " (825, 1100): 1,\n",
              " (953, 1300): 1,\n",
              " (960, 1280): 1,\n",
              " (1072, 1600): 1,\n",
              " (1200, 900): 2,\n",
              " (1200, 1200): 1,\n",
              " (1428, 2560): 1,\n",
              " (1500, 1000): 1,\n",
              " (1500, 1500): 1,\n",
              " (1500, 2000): 1,\n",
              " (1800, 1800): 1,\n",
              " (2322, 4128): 1,\n",
              " (2340, 4160): 1,\n",
              " (2472, 3296): 1,\n",
              " (2700, 1800): 1,\n",
              " (3000, 4000): 1,\n",
              " (3264, 2448): 1,\n",
              " (4032, 1960): 15,\n",
              " (4032, 3024): 1,\n",
              " (4048, 3036): 1}"
            ]
          },
          "metadata": {
            "tags": []
          },
          "execution_count": 27
        }
      ]
    },
    {
      "cell_type": "code",
      "metadata": {
        "id": "Lkv7zLTUWEFt",
        "colab_type": "code",
        "colab": {
          "base_uri": "https://localhost:8080/",
          "height": 974
        },
        "outputId": "38ef2d0d-7537-4803-cb65-0054b9d36425"
      },
      "source": [
        "counts_list = list(size_count.items())\n",
        "counts_list"
      ],
      "execution_count": 16,
      "outputs": [
        {
          "output_type": "execute_result",
          "data": {
            "text/plain": [
              "[((240, 300), 1),\n",
              " ((293, 220), 1),\n",
              " ((1500, 1500), 1),\n",
              " ((2700, 1800), 1),\n",
              " ((1500, 1000), 1),\n",
              " ((201, 251), 1),\n",
              " ((600, 900), 1),\n",
              " ((953, 1300), 1),\n",
              " ((422, 500), 1),\n",
              " ((168, 300), 1),\n",
              " ((1072, 1600), 1),\n",
              " ((210, 210), 1),\n",
              " ((3000, 4000), 1),\n",
              " ((1200, 900), 2),\n",
              " ((720, 1280), 1),\n",
              " ((1200, 1200), 1),\n",
              " ((682, 1023), 1),\n",
              " ((4032, 3024), 1),\n",
              " ((251, 201), 1),\n",
              " ((450, 338), 1),\n",
              " ((960, 1280), 1),\n",
              " ((300, 215), 1),\n",
              " ((1800, 1800), 1),\n",
              " ((432, 764), 1),\n",
              " ((337, 600), 1),\n",
              " ((275, 183), 1),\n",
              " ((195, 259), 1),\n",
              " ((512, 1024), 1),\n",
              " ((2322, 4128), 1),\n",
              " ((299, 168), 1),\n",
              " ((225, 225), 2),\n",
              " ((183, 275), 5),\n",
              " ((2472, 3296), 1),\n",
              " ((720, 1080), 1),\n",
              " ((620, 1024), 1),\n",
              " ((229, 220), 1),\n",
              " ((194, 259), 3),\n",
              " ((1428, 2560), 1),\n",
              " ((163, 310), 2),\n",
              " ((212, 238), 1),\n",
              " ((183, 276), 1),\n",
              " ((523, 523), 1),\n",
              " ((185, 272), 1),\n",
              " ((174, 290), 1),\n",
              " ((405, 540), 1),\n",
              " ((3264, 2448), 1),\n",
              " ((225, 224), 1),\n",
              " ((249, 203), 1),\n",
              " ((440, 700), 1),\n",
              " ((825, 1100), 1),\n",
              " ((348, 348), 1),\n",
              " ((367, 550), 1),\n",
              " ((1500, 2000), 1),\n",
              " ((204, 233), 1),\n",
              " ((4048, 3036), 1),\n",
              " ((4032, 1960), 15),\n",
              " ((2340, 4160), 1)]"
            ]
          },
          "metadata": {
            "tags": []
          },
          "execution_count": 16
        }
      ]
    },
    {
      "cell_type": "code",
      "metadata": {
        "id": "XoZN5EaRXR99",
        "colab_type": "code",
        "colab": {}
      },
      "source": [
        "widths = [i[0][0] for i in counts_list]\n",
        "heights = [i[0][1] for i in counts_list]\n",
        "counts = [i[1] for i in counts_list]"
      ],
      "execution_count": 0,
      "outputs": []
    },
    {
      "cell_type": "code",
      "metadata": {
        "id": "hrEq9b-NXTnb",
        "colab_type": "code",
        "colab": {
          "base_uri": "https://localhost:8080/",
          "height": 70
        },
        "outputId": "0ffd5205-36bb-4732-e63f-01007920b43e"
      },
      "source": [
        "import seaborn as sns"
      ],
      "execution_count": 29,
      "outputs": [
        {
          "output_type": "stream",
          "text": [
            "/usr/local/lib/python3.6/dist-packages/statsmodels/tools/_testing.py:19: FutureWarning: pandas.util.testing is deprecated. Use the functions in the public API at pandas.testing instead.\n",
            "  import pandas.util.testing as tm\n"
          ],
          "name": "stderr"
        }
      ]
    },
    {
      "cell_type": "code",
      "metadata": {
        "id": "hnA12VbcZU4L",
        "colab_type": "code",
        "colab": {
          "base_uri": "https://localhost:8080/",
          "height": 555
        },
        "outputId": "17543b60-2335-43c6-eb04-55920da5a25a"
      },
      "source": [
        "sns.set(rc = {'figure.figsize':(8,8)})\n",
        "\n",
        "scatter_wh = sns.scatterplot(x = widths, y = heights, size = counts, palette = 'b', )\n",
        "\n",
        "# scatter_wh.set_xticklabels(boxplot.get_xticklabels(), rotation = 90) # x-tick label info\n",
        "scatter_wh.axes.set_title('Distribution of Image Sizes', fontsize = 19.5, pad = 10) # title info\n",
        "scatter_wh.set_xlabel('Width', fontsize = 18, labelpad = 10) # xlabel info\n",
        "scatter_wh.set_ylabel('Height', fontsize = 17.5, labelpad = 8) # ylabel info"
      ],
      "execution_count": 34,
      "outputs": [
        {
          "output_type": "execute_result",
          "data": {
            "text/plain": [
              "Text(0, 0.5, 'Height')"
            ]
          },
          "metadata": {
            "tags": []
          },
          "execution_count": 34
        },
        {
          "output_type": "display_data",
          "data": {
            "image/png": "[encoded data removed]",
            "text/plain": [
              "<Figure size 576x576 with 1 Axes>"
            ]
          },
          "metadata": {
            "tags": []
          }
        }
      ]
    },
    {
      "cell_type": "code",
      "metadata": {
        "id": "mbJT2blAZca_",
        "colab_type": "code",
        "colab": {}
      },
      "source": [
        ""
      ],
      "execution_count": 0,
      "outputs": []
    }
  ]
}